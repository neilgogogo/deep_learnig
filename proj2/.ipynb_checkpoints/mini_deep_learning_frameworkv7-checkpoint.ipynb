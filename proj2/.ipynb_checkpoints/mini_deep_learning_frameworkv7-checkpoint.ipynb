{
 "cells": [
  {
   "cell_type": "code",
   "execution_count": 1,
   "metadata": {},
   "outputs": [],
   "source": [
    "import torch\n",
    "import math\n",
    "import matplotlib.pyplot as plt"
   ]
  },
  {
   "cell_type": "code",
   "execution_count": 2,
   "metadata": {},
   "outputs": [
    {
     "data": {
      "text/plain": [
       "<torch.autograd.grad_mode.set_grad_enabled at 0x7ff897fcc760>"
      ]
     },
     "execution_count": 2,
     "metadata": {},
     "output_type": "execute_result"
    }
   ],
   "source": [
    "# autograd globally off\n",
    "torch.set_grad_enabled(False)"
   ]
  },
  {
   "cell_type": "markdown",
   "metadata": {},
   "source": [
    "### Layer Modules"
   ]
  },
  {
   "cell_type": "code",
   "execution_count": 3,
   "metadata": {},
   "outputs": [],
   "source": [
    "class Module(object):\n",
    "    \"\"\"\n",
    "    Base class to be inherited by other modules\n",
    "    \"\"\"\n",
    "    def __init__(self):\n",
    "        self.parameters = []\n",
    "\n",
    "    def forward(self, *input):\n",
    "        raise NotImplementedError\n",
    "\n",
    "    def backward(self, *gradwrtoutput):\n",
    "        raise NotImplementedError"
   ]
  },
  {
   "cell_type": "code",
   "execution_count": 4,
   "metadata": {},
   "outputs": [],
   "source": [
    "class Parameter(object):\n",
    "    def __init__(self, data):\n",
    "        # data is used to store weight and bias\n",
    "        self.data = data\n",
    "        # grad is used to store gradient of weight and bias\n",
    "        self.grad = None"
   ]
  },
  {
   "cell_type": "code",
   "execution_count": 5,
   "metadata": {},
   "outputs": [],
   "source": [
    "class Linear(Module):\n",
    "    \"\"\"\n",
    "    Implements linear layer, with or without bias\n",
    "    Parameters: shape: (in_size, out_size)\n",
    "    bias: whether there is bias in the Linear, defaut value is true\n",
    "    initialization: uniform \n",
    "    \"\"\"\n",
    "    def __init__(self, shape, bias=True, initialization='uniform',**kwargs):\n",
    "        super().__init__()\n",
    "        # using pytorch default weight initialization\n",
    "        \n",
    "        self.weights = Parameter(torch.Tensor(shape[0],shape[1]))\n",
    "        if initialization=='uniform':\n",
    "            init_range = 1. / math.sqrt(shape[0])\n",
    "            self.weights.data=self.weights.data.uniform_(-init_range, init_range)\n",
    "            \n",
    "        self.weights.grad = torch.zeros(shape)\n",
    "        \n",
    "        if bias:\n",
    "            # default bias initialization\n",
    "            self.bias = Parameter(torch.Tensor(shape[1]))\n",
    "            self.bias.grad = torch.zeros(shape[1])\n",
    "            if initialization=='uniform':\n",
    "                self.bias.data=self.bias.data.uniform_(-init_range, init_range) \n",
    "        else:\n",
    "            self.bias = None\n",
    "            \n",
    "            \n",
    "    def forward(self, x):\n",
    "        # Returns tensor of size N * out_features\n",
    "        self.x = x\n",
    "        output=x.matmul(self.weights.data)\n",
    "        if self.bias is not None:\n",
    "            output+=self.bias.data\n",
    "        return output\n",
    "\n",
    "    def backward(self, grad_output):\n",
    "        # grad_output: gradient from the lower layers\n",
    "        # Returns tensor of size N * in_features, computes gradient wrt the weights\n",
    "        \n",
    "        \n",
    "        self.weights.grad += torch.mm(self.x.t(),grad_output)\n",
    "#         torch.mm(a,b)\n",
    "        grad_input = torch.mm(grad_output,self.weights.data.t())\n",
    "#         grad_input = grad_output.matmul(self.weights.data.t())\n",
    "        \n",
    "        if self.bias is not None:\n",
    "            self.bias.grad += torch.einsum('ij->j', grad_output)\n",
    "        return grad_input"
   ]
  },
  {
   "cell_type": "markdown",
   "metadata": {},
   "source": [
    "### Activation functions"
   ]
  },
  {
   "cell_type": "code",
   "execution_count": 6,
   "metadata": {},
   "outputs": [],
   "source": [
    "class ReLU(Module):\n",
    "    \"\"\"\n",
    "    Implements Rectifier Linear Unit activation\n",
    "    Only positive inputs are back-propagated\n",
    "    \"\"\"\n",
    "    def forward(self, x):\n",
    "        #saving x for the backpropagation\n",
    "        self.x = x\n",
    "        # return non-negative x\n",
    "        return torch.max(torch.empty(self.x.size()).zero_(),x)\n",
    "\n",
    "    def backward(self, eta):\n",
    "        eta[self.x<=0]=0\n",
    "        return eta"
   ]
  },
  {
   "cell_type": "code",
   "execution_count": 7,
   "metadata": {},
   "outputs": [],
   "source": [
    "class Tanh(Module):\n",
    "    \"\"\"\n",
    "    Implements tanh activation\n",
    "    The derivative of tanh(x) is 1 - tanh(x) ** 2\n",
    "    \"\"\"\n",
    "    def forward(self, x):\n",
    "        ex = torch.exp(x)\n",
    "        esx = torch.exp(-x)\n",
    "        self.y = (ex - esx) / (ex + esx)\n",
    "        return self.y\n",
    "\n",
    "    def backward(self, eta):\n",
    "        return eta*(1-self.y**2)"
   ]
  },
  {
   "cell_type": "code",
   "execution_count": 8,
   "metadata": {},
   "outputs": [],
   "source": [
    "# class Sigmoid(Module):\n",
    "#     \"\"\"\n",
    "#     Implements sigmoid activation\n",
    "#     The derivative of Sigmoid(x) is Sigmoid(x)(1-Sigmoid(x))\n",
    "#     \"\"\"\n",
    "#     def forward(self, x):\n",
    "#         self.x=x\n",
    "#         self.y=1/(1+torch.exp(-x))\n",
    "#         return self.y\n",
    "#     def backward(self, eta):\n",
    "# #         return eta*(self.y*(1-self.y))\n",
    "# #         return torch.einsum('...,...,...->...', self.y, 1 - self.y, eta)\n",
    "#         grads=eta*((1/(1+math.exp(1)**(-self.x)))*(1-1/(1+math.exp(1)**(-self.x)))) \n",
    "#         return grads"
   ]
  },
  {
   "cell_type": "code",
   "execution_count": 9,
   "metadata": {},
   "outputs": [],
   "source": [
    "#Sigmoid Activation Module\n",
    "class  Sigmoid:\n",
    "        \n",
    "    \n",
    "    def  forward(self , s):\n",
    "        \n",
    "        #Saving s for the backward\n",
    "        self.s=s\n",
    "        \n",
    "        return 1/(1+math.exp(1)**(-self.s))\n",
    "        \n",
    "    def backward(self , gradx):\n",
    "        \n",
    "        #Computing the gradient with respect to s\n",
    "        #∇s sigmoid(s) = sigmoid(s)*(1-sigmoid(s))\n",
    "        grads=gradx*((1/(1+math.exp(1)**(-self.s)))*(1-1/(1+math.exp(1)**(-self.s)))) \n",
    "        \n",
    "        return grads"
   ]
  },
  {
   "cell_type": "markdown",
   "metadata": {},
   "source": [
    "### Loss functions"
   ]
  },
  {
   "cell_type": "code",
   "execution_count": 10,
   "metadata": {},
   "outputs": [],
   "source": [
    "class MSELoss(Module):\n",
    "    \n",
    "    def __init__(self):\n",
    "        super().__init__()\n",
    "\n",
    "    def __call__(self, pred_, target):\n",
    "        \n",
    "        return self.forward(pred_, target)\n",
    "\n",
    "    def forward(self, pred_, target):\n",
    "        \n",
    "        return torch.mean((pred_ - target)**2).item()\n",
    "\n",
    "    def backward(self, pred_, target):\n",
    "        #Computing the gradient of the loss with respect to input\n",
    "        \n",
    "        return 2*(pred_ - target)/target.size(0)"
   ]
  },
  {
   "cell_type": "code",
   "execution_count": null,
   "metadata": {},
   "outputs": [],
   "source": []
  },
  {
   "cell_type": "markdown",
   "metadata": {},
   "source": [
    "### Optimizer"
   ]
  },
  {
   "cell_type": "code",
   "execution_count": 11,
   "metadata": {},
   "outputs": [],
   "source": [
    "class SGD:\n",
    "    def __init__(self, layers, learning_rate):\n",
    "        self.layers = layers\n",
    "        self.learning_rate = learning_rate\n",
    "\n",
    "    def step(self):\n",
    "        \n",
    "        for layer in self.layers:\n",
    "            #if the Layer is Linear, update the weight and bias\n",
    "            if isinstance(layer, Linear):\n",
    "                # update the weight and bias\n",
    "                layer.weights.data=layer.weights.data-self.learning_rate * layer.weights.grad\n",
    "                layer.bias.data=layer.bias.data-self.learning_rate * layer.bias.grad"
   ]
  },
  {
   "cell_type": "markdown",
   "metadata": {},
   "source": [
    "### Concatenate different layers"
   ]
  },
  {
   "cell_type": "code",
   "execution_count": 12,
   "metadata": {},
   "outputs": [],
   "source": [
    "class Sequential(Module):\n",
    "    \"\"\"\n",
    "    Implements sequential layer to combine multiple modules given in *args\n",
    "    # Usage example: Sequential(layer1, layer2, layer3)\n",
    "    \"\"\"\n",
    "    def __init__(self, layer_configures, model_name):\n",
    "        self.layers = []\n",
    "        self.model_name=model_name\n",
    "        for config in layer_configures:\n",
    "            self.layers.append(self.createLayer(config))\n",
    "#         self.layers = layers\n",
    "    \n",
    "    \n",
    "    def createLayer(self, config):\n",
    "        t = config['type']\n",
    "        if t == 'Linear':\n",
    "            layer = Linear(**config)\n",
    "        elif t == 'ReLU':\n",
    "            layer = ReLU()\n",
    "        elif t == 'softmax':\n",
    "            layer = Softmax()\n",
    "        elif t == 'Tanh':\n",
    "            layer = Tanh()\n",
    "        elif t == 'Sigmoid':\n",
    "            layer = Sigmoid()\n",
    "        else:\n",
    "            raise TypeError\n",
    "        return layer\n",
    "\n",
    "    def __call__(self, x):\n",
    "        return self.forward(x)\n",
    "\n",
    "    def zero_grad(self):\n",
    "        for layer in self.layers:\n",
    "            #if the Layer is Linear, update the gradient of weight and bias to zeros\n",
    "            if isinstance(layer, Linear):\n",
    "                # update the gradient of weight and bias to zeros\n",
    "                layer.weights.grad.zero_()\n",
    "                layer.bias.grad.zero_()\n",
    "\n",
    "    def forward(self, x):\n",
    "        \n",
    "        for layer in self.layers:\n",
    "            x = layer.forward(x)\n",
    "        return x\n",
    "\n",
    "    def backward(self, eta):\n",
    "        \n",
    "        for layer in reversed(self.layers):\n",
    "            eta = layer.backward(eta)\n",
    "        return eta"
   ]
  },
  {
   "cell_type": "markdown",
   "metadata": {},
   "source": [
    "### generate training and testing dataset"
   ]
  },
  {
   "cell_type": "code",
   "execution_count": 13,
   "metadata": {},
   "outputs": [],
   "source": [
    "def generate_set(num):\n",
    "    \"\"\"\n",
    "    generate training data and testing data\n",
    "    :param num: the number of pairs of random points and labels that you want to generate.\n",
    "    :return: random_points: the random point in [0,1]\n",
    "             targets:  whether the point is in the circle\n",
    "    :return eaxmple: num=1, tensor([[0.8247, 0.7978]]), tensor([[0.]])\n",
    "    \"\"\"\n",
    "#   using pytorch tensor operation\n",
    "#   return the generated random points and labels\n",
    "    random_points = torch.rand((num, 2))\n",
    "    # check if the point is in the circle centered at (0.5,0.5) of radius 1/sqrt(2*math.pi)\n",
    "    targets=torch.Tensor([int(pow(x[0]-0.5,2)+pow(x[1]-0.5,2)<1/(2*math.pi)) for x in random_points]).view(-1,1)\n",
    "    return random_points, targets"
   ]
  },
  {
   "cell_type": "markdown",
   "metadata": {},
   "source": [
    "### Training function"
   ]
  },
  {
   "cell_type": "code",
   "execution_count": 14,
   "metadata": {},
   "outputs": [],
   "source": [
    "def train_model(model, train_input, train_target,test_input, test_target,learning_rate_list, batch_size=25, n_epochs=700, loss=MSELoss()):\n",
    "    \"\"\"\n",
    "    Train model\n",
    "    :param model: Sequence instance\n",
    "    :param train_input: tensor of size [size, 2] with coordinates x,y of the samples\n",
    "    :param train_target: tensor of size [size,1] with labels of the samples\n",
    "    :param test_input: tensor of size [size, 2] with coordinates x,y of the samples\n",
    "    :param test_target: tensor of size [size,1] with labels of the samples\n",
    "    :param batch_size: (int) size of batch to perform SGD\n",
    "    :param n_epochs: (int) number of iterations along the whole train set\n",
    "    :param loss: loss function instance\n",
    "    :param learning_rate: (float) which is used to perform SGD\n",
    "    :return: my_loss: (list) values of loss along the epochs\n",
    "    \"\"\"\n",
    "    # train model\n",
    "    train_loss_history=[]\n",
    "    train_accuracy=[]\n",
    "    test_loss_history=[]\n",
    "    test_accuracy=[]\n",
    "    \n",
    "    sample_size = train_input.size(0)\n",
    "    # reduce the learning rate when training epoch is halfway \n",
    "    # so that the training loss can continue to decrease\n",
    "    for epoch in range(n_epochs):\n",
    "        for x in learning_rate_list:\n",
    "            if epoch==x[1]:\n",
    "                learning_rate=x[0]\n",
    "        sgd = SGD(model.layers, learning_rate)\n",
    "        cumulative_loss = 0\n",
    "        for n_start in range(0, sample_size, batch_size):\n",
    "            # resetting the gradients\n",
    "            model.zero_grad()\n",
    "            output = model(train_input[n_start : n_start + batch_size])\n",
    "            # accumulating the loss over the mini-batches\n",
    "            cumulative_loss += loss(output, train_target[n_start : n_start + batch_size]) * batch_size\n",
    "            # calculating the gradient of the loss wrt final outputs\n",
    "            loss_grad = loss.backward(output, train_target[n_start : n_start + batch_size])\n",
    "            # propagating it backward\n",
    "            model.backward(loss_grad)\n",
    "            # updating the parameters\n",
    "            sgd.step()\n",
    "        \n",
    "        # get the training loss and accuracy\n",
    "        train_pred=model(train_input) \n",
    "        train_loss=loss(train_pred,train_target)\n",
    "        train_loss_history.append(train_loss)\n",
    "        train_accuracy_result=compute_accuracy(train_target,train_pred)\n",
    "        train_accuracy.append(train_accuracy_result)\n",
    "\n",
    "        # get the testing loss and accuracy\n",
    "        test_pred=model(test_input)\n",
    "        test_loss=loss(test_pred,test_target)\n",
    "        test_loss_history.append(test_loss)\n",
    "        test_accuracy_result=compute_accuracy(test_target,test_pred)\n",
    "        test_accuracy.append(test_accuracy_result)\n",
    "        \n",
    "        #Printing the results of the current iteration\n",
    "        print(model.model_name,\" :the average training loss at epoch {} is {}\".format(epoch+1,(cumulative_loss / sample_size)),end='\\r')\n",
    "    print(\"\\r\")\n",
    "    print(\"The final train accuracy is\",compute_accuracy(train_target,train_pred))\n",
    "    print(\"The final test accuracy is \", compute_accuracy(test_target,test_pred))\n",
    "    #Plotting the train and test loss and accuracy figure\n",
    "\n",
    "    #Setting-up the plot\n",
    "    plt.figure(figsize=(15,8))\n",
    "\n",
    "    ax1 = plt.subplot(1,2,1)\n",
    "\n",
    "    ax2 = plt.subplot(1,2,2)\n",
    "\n",
    "    #Drawing and labeling the curves\n",
    "    ax1.plot(train_loss_history, label=\"Training Loss\")\n",
    "    ax1.plot(test_loss_history, label=\"Test Loss\")\n",
    "\n",
    "    #Adding the title and axis labels\n",
    "    ax1.set_title('Train VS Test Loss')\n",
    "    ax1.set_ylabel('Loss')\n",
    "    ax1.set_xlabel('Epoch')\n",
    "    ax1.legend()\n",
    "\n",
    "#     #Saving the plot\n",
    "#     ax1.figure.savefig(model.model_name+'loss.png')\n",
    "\n",
    "\n",
    "    #Drawing and labeling the curves\n",
    "    ax2.plot(train_accuracy, label=\"Train Accuracy\")\n",
    "    ax2.plot(test_accuracy, label=\"Test Accuracy\")\n",
    "\n",
    "    #Adding the title and axis labels\n",
    "    ax2.set_title('Train VS Test Accuracy')\n",
    "    ax2.set_ylabel('Accuracy')\n",
    "    ax2.set_xlabel('Epoch')\n",
    "    ax2.legend()\n",
    "\n",
    "    #Saving the plot\n",
    "#     ax2.figure.savefig(model.model_name+'accuracy.png')\n",
    "    plt.savefig(model.model_name+'accuracy_loss.png')\n",
    "\n",
    "\n",
    "def compute_accuracy(true_target, predicted):\n",
    "    return (true_target-(predicted>0.5).float()).eq(0).float().mean().item()\n",
    "    "
   ]
  },
  {
   "cell_type": "markdown",
   "metadata": {},
   "source": [
    "### Training the model"
   ]
  },
  {
   "cell_type": "code",
   "execution_count": 15,
   "metadata": {},
   "outputs": [
    {
     "name": "stdout",
     "output_type": "stream",
     "text": [
      "The average training loss at epoch 2500 is 0.0018407118716595506\n",
      "The final train accuracy is 0.9980000257492065\n",
      "The final test accuracy is  0.9890000224113464\n"
     ]
    },
    {
     "data": {
      "image/png": "[encoded data removed]",
      "text/plain": [
       "<Figure size 1080x576 with 2 Axes>"
      ]
     },
     "metadata": {
      "needs_background": "light"
     },
     "output_type": "display_data"
    }
   ],
   "source": [
    "sample_size = 1000\n",
    "batch_size=25\n",
    "n_epochs=2500\n",
    "# when the traing begin, the learning rate is 0.1; \n",
    "# After 200 epoch, the learning rate becomes 0.03\n",
    "# Then after 1000 epoch, the learning rate becomes 0.01\n",
    "learning_rate=[(0.1,0),(0.03,200),(0.01,1000)]\n",
    "\n",
    "\n",
    "train_input, train_target = generate_set(sample_size)\n",
    "test_input, test_target = generate_set(sample_size)\n",
    "# train the model with ReLU\n",
    "layers = [\n",
    "    {'type': 'Linear', 'shape': (2, 25)},\n",
    "    {'type': 'ReLU'},\n",
    "    {'type': 'Linear', 'shape': (25, 25)},\n",
    "    {'type': 'ReLU'},\n",
    "    {'type': 'Linear', 'shape': (25, 25)},\n",
    "    {'type': 'ReLU'},\n",
    "    {'type': 'Linear', 'shape': (25, 25)},\n",
    "    {'type': 'ReLU'},\n",
    "    {'type': 'Linear', 'shape': (25, 1)}\n",
    "]\n",
    "\n",
    "model = Sequential(layers,'model1')\n",
    "\n",
    "train_model(model, train_input, train_target,test_input, test_target, learning_rate, batch_size, n_epochs, loss=MSELoss())"
   ]
  },
  {
   "cell_type": "code",
   "execution_count": 16,
   "metadata": {},
   "outputs": [
    {
     "name": "stdout",
     "output_type": "stream",
     "text": [
      "The average training loss at epoch 2500 is 0.008799909211666093\n",
      "The final train accuracy is 0.9879999756813049\n",
      "The final test accuracy is  0.9860000014305115\n"
     ]
    },
    {
     "data": {
      "image/png": "[encoded data removed]",
      "text/plain": [
       "<Figure size 1080x576 with 2 Axes>"
      ]
     },
     "metadata": {
      "needs_background": "light"
     },
     "output_type": "display_data"
    }
   ],
   "source": [
    "# train the model with Tanh\n",
    "layers_2 = [\n",
    "    {'type': 'Linear', 'shape': (2, 25)},\n",
    "    {'type': 'Tanh'},\n",
    "    {'type': 'Linear', 'shape': (25, 25)},\n",
    "    {'type': 'Tanh'},\n",
    "    {'type': 'Linear', 'shape': (25, 25)},\n",
    "    {'type': 'Tanh'},\n",
    "    {'type': 'Linear', 'shape': (25, 25)},\n",
    "    {'type': 'Tanh'},\n",
    "    {'type': 'Linear', 'shape': (25, 1)}\n",
    "]\n",
    "\n",
    "model_2 = Sequential(layers_2,'model2')\n",
    "\n",
    "train_model(model_2, train_input, train_target,test_input, test_target, learning_rate, batch_size, n_epochs, loss=MSELoss())"
   ]
  },
  {
   "cell_type": "code",
   "execution_count": 17,
   "metadata": {},
   "outputs": [
    {
     "name": "stdout",
     "output_type": "stream",
     "text": [
      "The average training loss at epoch 2500 is 0.048928496660664684\n",
      "The final train accuracy is 0.9919999837875366\n",
      "The final test accuracy is  0.9900000095367432\n"
     ]
    },
    {
     "data": {
      "image/png": "[encoded data removed]",
      "text/plain": [
       "<Figure size 1080x576 with 2 Axes>"
      ]
     },
     "metadata": {
      "needs_background": "light"
     },
     "output_type": "display_data"
    }
   ],
   "source": [
    "learning_rate_3=[(0.1,0)]\n",
    "# train the model with Tanh\n",
    "layers_3 = [\n",
    "    {'type': 'Linear', 'shape': (2, 25)},\n",
    "    {'type': 'Tanh'},\n",
    "    {'type': 'Linear', 'shape': (25, 25)},\n",
    "    {'type': 'Sigmoid'},\n",
    "    {'type': 'Linear', 'shape': (25, 25)},\n",
    "    {'type': 'Sigmoid'},\n",
    "    {'type': 'Linear', 'shape': (25, 25)},\n",
    "    {'type': 'Sigmoid'},\n",
    "    {'type': 'Linear', 'shape': (25, 1)}\n",
    "]\n",
    "\n",
    "model_3 = Sequential(layers_3,'model3')\n",
    "\n",
    "train_model(model_3, train_input, train_target,test_input, test_target, learning_rate_3, batch_size, n_epochs, loss=MSELoss())"
   ]
  },
  {
   "cell_type": "code",
   "execution_count": null,
   "metadata": {},
   "outputs": [],
   "source": []
  }
 ],
 "metadata": {
  "kernelspec": {
   "display_name": "Python 3",
   "language": "python",
   "name": "python3"
  },
  "language_info": {
   "codemirror_mode": {
    "name": "ipython",
    "version": 3
   },
   "file_extension": ".py",
   "mimetype": "text/x-python",
   "name": "python",
   "nbconvert_exporter": "python",
   "pygments_lexer": "ipython3",
   "version": "3.8.5"
  }
 },
 "nbformat": 4,
 "nbformat_minor": 4
}
