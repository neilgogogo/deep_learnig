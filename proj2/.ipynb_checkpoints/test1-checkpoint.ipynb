{
 "cells": [
  {
   "cell_type": "code",
   "execution_count": 2,
   "metadata": {},
   "outputs": [
    {
     "name": "stdout",
     "output_type": "stream",
     "text": [
      "The loss is 0.563666\n",
      "The loss is 0.066747\n",
      "The loss is 0.033787\n",
      "The loss is 0.022153\n",
      "The loss is 0.016641\n",
      "The loss is 0.013686\n",
      "The loss is 0.011764\n",
      "The loss is 0.010354\n",
      "The loss is 0.009275\n",
      "The loss is 0.008432\n",
      "The loss is 0.007760\n",
      "The loss is 0.007212\n"
     ]
    }
   ],
   "source": [
    "import numpy as np\n",
    "\n",
    "class BP_network(object):\n",
    "    #The network is like:\n",
    "    #    l0 -> w1 -> l1 -> w2 -> (l2 == y?)\n",
    "    def __init__(self):\n",
    "        # 4 node in input layer\n",
    "        # 5 node in the hidden layer\n",
    "        self.w1 = 2*np.random.random((4, 5)) - 1                                     # (4, 5)\n",
    "        # 1 node for output layer\n",
    "        self.w2 = 2*np.random.random((5, 1)) - 1                                     # (5, 1)\n",
    "\n",
    "    def sigmoid(self, x, deriv=False):\n",
    "        if deriv == True:\n",
    "            return x * (1-x)\n",
    "        return 1/(1+np.exp(-x))\n",
    "\n",
    "    def forward_prop(self, input_data):\n",
    "        self.l0 = input_data\n",
    "        self.l1 = self.sigmoid(np.array(np.dot(self.l0, self.w1), dtype=np.float32)) # (batch_sz , 5)\n",
    "        self.l2 = self.sigmoid(np.array(np.dot(self.l1, self.w2), dtype=np.float32)) # (batch_sz , 1)\n",
    "        l2_error = label[st_idx:ed_idx] - self.l2                                    # (batch_sz , 1)\n",
    "        return self.l2, l2_error\n",
    "\n",
    "    def backward_prop(self, output_error):\n",
    "        l2_error = output_error\n",
    "        l2_delta = l2_error * self.sigmoid(self.l2, True)                            # (batch_sz , 1)\n",
    "        l1_delta = np.dot(l2_delta, self.w2.T) * self.sigmoid(self.l1, True)         # (batch_sz , 5)\n",
    "        self.w2 += lr * np.array(np.dot(self.l1.T, l2_delta), dtype=np.float32)      # (5 , 1)\n",
    "        self.w1 += lr * np.array(np.dot(self.l0.T, l1_delta), dtype=np.float32)      # (4 , 5)\n",
    "\n",
    "# data  :  [x0, x1, x2, x3]\n",
    "# label :  x0 + x1 - x2 - x3 > 0? 1 : 0\n",
    "def generate_data(data_size):\n",
    "    data = np.empty((1, 4), dtype=object);\n",
    "    label = np.empty((1, 1), dtype=object)\n",
    "    for i in range(0, data_size):\n",
    "        x = np.array([np.random.randint(0, 10, size=4)])\n",
    "        res = int((x[0][0]+x[0][1] -x[0][2]-x[0][3])>0)\n",
    "        y = np.array([[res]])\n",
    "        data = np.concatenate((data, x), axis=0)\n",
    "        label = np.concatenate((label, y), axis=0)\n",
    "    return data[1:], label[1:]\n",
    "\n",
    "if __name__ == '__main__':\n",
    "    # size of data, batch size\n",
    "    data_size = 100; batch_sz = 10;\n",
    "    # learning rate, max iteration\n",
    "    lr = 0.1;      max_iter = 5000;\n",
    "    data, label = generate_data(data_size)\n",
    "    NN = BP_network()\n",
    "    for iters in range(max_iter):\n",
    "        # starting index and ending index for fetching data\n",
    "        st_idx = (iters % 10) * batch_sz; ed_idx = st_idx + batch_sz\n",
    "        input_data = data[st_idx : ed_idx]\n",
    "        outcome, output_error = NN.forward_prop(input_data)\n",
    "        if iters % 450 == 0:\n",
    "            print (\"The loss is %f\" % (np.mean(np.abs(output_error))))\n",
    "            #print output_error.tolist()\n",
    "            continue\n",
    "        NN.backward_prop(output_error)"
   ]
  },
  {
   "cell_type": "code",
   "execution_count": null,
   "metadata": {},
   "outputs": [],
   "source": []
  }
 ],
 "metadata": {
  "kernelspec": {
   "display_name": "Python 3",
   "language": "python",
   "name": "python3"
  },
  "language_info": {
   "codemirror_mode": {
    "name": "ipython",
    "version": 3
   },
   "file_extension": ".py",
   "mimetype": "text/x-python",
   "name": "python",
   "nbconvert_exporter": "python",
   "pygments_lexer": "ipython3",
   "version": "3.8.5"
  }
 },
 "nbformat": 4,
 "nbformat_minor": 4
}
