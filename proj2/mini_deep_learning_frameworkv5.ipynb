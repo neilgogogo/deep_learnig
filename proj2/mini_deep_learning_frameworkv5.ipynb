{
 "cells": [
  {
   "cell_type": "code",
   "execution_count": 1,
   "metadata": {},
   "outputs": [],
   "source": [
    "import torch\n",
    "import math\n",
    "import matplotlib.pyplot as plt"
   ]
  },
  {
   "cell_type": "code",
   "execution_count": 2,
   "metadata": {},
   "outputs": [
    {
     "data": {
      "text/plain": [
       "<torch.autograd.grad_mode.set_grad_enabled at 0x7fbaf0eba3d0>"
      ]
     },
     "execution_count": 2,
     "metadata": {},
     "output_type": "execute_result"
    }
   ],
   "source": [
    "# autograd globally off\n",
    "torch.set_grad_enabled(False)"
   ]
  },
  {
   "cell_type": "markdown",
   "metadata": {},
   "source": [
    "### Layer Modules"
   ]
  },
  {
   "cell_type": "code",
   "execution_count": 3,
   "metadata": {},
   "outputs": [],
   "source": [
    "class Module(object):\n",
    "    \"\"\"\n",
    "    Base class to be inherited by other modules\n",
    "    \"\"\"\n",
    "    def __init__(self):\n",
    "        self.parameters = []\n",
    "\n",
    "    def forward(self, *input):\n",
    "        raise NotImplementedError\n",
    "\n",
    "    def backward(self, *gradwrtoutput):\n",
    "        raise NotImplementedError\n",
    "\n",
    "    def param(self):\n",
    "        return self.parameters"
   ]
  },
  {
   "cell_type": "code",
   "execution_count": 4,
   "metadata": {},
   "outputs": [
    {
     "data": {
      "text/plain": [
       "tensor([[0.3542, 0.2059]])"
      ]
     },
     "execution_count": 4,
     "metadata": {},
     "output_type": "execute_result"
    }
   ],
   "source": [
    "init_range = 1. / math.sqrt(1)\n",
    "weights = torch.Tensor(1, 2).normal_()\n",
    "weights"
   ]
  },
  {
   "cell_type": "code",
   "execution_count": 5,
   "metadata": {},
   "outputs": [],
   "source": [
    "class Linear(Module):\n",
    "    \"\"\"\n",
    "    Implements linear layer, with or without bias\n",
    "    Parameters: number of input and output features\n",
    "    \"\"\"\n",
    "    def __init__(self, in_features, out_features, bias=True, initialization='uniform'):\n",
    "        super().__init__()\n",
    "        # using pytorch default weight initialization\n",
    "        \n",
    "        init_range = 1. / math.sqrt(in_features)\n",
    "        self.weights = torch.Tensor(in_features, out_features).uniform_(-init_range, init_range)\n",
    "        self.grad_w = torch.zeros((in_features, out_features))\n",
    "        self.parameters = [(self.weights, self.grad_w)]\n",
    "        if bias:\n",
    "            # default bias initialization\n",
    "            self.bias = torch.Tensor(out_features).uniform_(-init_range, init_range)\n",
    "            self.grad_b = torch.zeros(out_features)\n",
    "            self.parameters.append((self.bias, self.grad_b))\n",
    "        else:\n",
    "            self.bias = None\n",
    "            \n",
    "    def forward(self, input_):\n",
    "        # Returns tensor of size N * out_features\n",
    "        self.input = input_\n",
    "        if self.bias is not None:\n",
    "            return torch.addmm(self.bias, input_, self.weights)\n",
    "        else:\n",
    "            return input_.matmul(self.weights)\n",
    "\n",
    "    def backward(self, grad_output):\n",
    "        # Returns tensor of size N * in_features, computes gradient wrt the weights\n",
    "        self.grad_w += self.input.t().matmul(grad_output)\n",
    "        grad_input = grad_output.matmul(self.weights.t())\n",
    "        if self.bias is not None:\n",
    "            self.grad_b += grad_output.sum(dim=0)\n",
    "        return grad_input"
   ]
  },
  {
   "cell_type": "markdown",
   "metadata": {},
   "source": [
    "### Activation functions"
   ]
  },
  {
   "cell_type": "code",
   "execution_count": 6,
   "metadata": {},
   "outputs": [],
   "source": [
    "class ReLU(Module):\n",
    "    \"\"\"\n",
    "    Implements Rectifier Linear Unit activation\n",
    "    Only positive inputs are back-propagated\n",
    "    \"\"\"\n",
    "    def forward(self, input_):\n",
    "        self.input = input_\n",
    "        return torch.relu(input_)\n",
    "\n",
    "    def backward(self, grad_output):\n",
    "        return torch.mul((self.input > 0).int(), grad_output)\n",
    "\n",
    "\n",
    "class Tanh(Module):\n",
    "    \"\"\"\n",
    "    Implements tanh activation\n",
    "    The derivative of tanh(x) is 1 - tanh(x) ** 2\n",
    "    \"\"\"\n",
    "    def forward(self, input_):\n",
    "        self.input = input_\n",
    "        return torch.tanh(input_)\n",
    "\n",
    "    def backward(self, grad_output):\n",
    "        return torch.tanh(self.input).pow(2).mul(-1).add(1).mul(grad_output)"
   ]
  },
  {
   "cell_type": "markdown",
   "metadata": {},
   "source": [
    "### Loss functions"
   ]
  },
  {
   "cell_type": "code",
   "execution_count": 7,
   "metadata": {},
   "outputs": [],
   "source": [
    "class MSELoss(Module):\n",
    "    def __init__(self):\n",
    "        super().__init__()\n",
    "\n",
    "    # Overloading __call__ method\n",
    "    # Example:\n",
    "    # loss = MSELoss()\n",
    "    # loss(input, target)\n",
    "\n",
    "    def __call__(self, input_, target):\n",
    "        return self.forward(input_, target)\n",
    "\n",
    "    def forward(self, input_, target):\n",
    "        if input_.size() != target.size():\n",
    "            raise Exception(\"Dimensions do not match\")\n",
    "        if target.dim() == 1:\n",
    "            target = target.view(target.size(0), 1)\n",
    "        return (input_ - target).pow(2).mean().item()\n",
    "\n",
    "    def backward(self, input_, target):\n",
    "        if input_.size() != target.size():\n",
    "            raise Exception(\"Dimensions do not match\")\n",
    "        if target.dim() == 1:\n",
    "            target = target.view(target.size(0), 1)\n",
    "\n",
    "        return (input_ - target).mul(2).div(target.size(0))"
   ]
  },
  {
   "cell_type": "markdown",
   "metadata": {},
   "source": [
    "### Concatenate different layers"
   ]
  },
  {
   "cell_type": "code",
   "execution_count": 8,
   "metadata": {},
   "outputs": [],
   "source": [
    "class Sequential(Module):\n",
    "    \"\"\"\n",
    "    Implements sequential layer to combine multiple modules given in *args\n",
    "    # Usage example: Sequential(layer1, layer2, layer3)\n",
    "    \"\"\"\n",
    "    def __init__(self, layers):\n",
    "        self.layers = layers\n",
    "        self.parameters = []\n",
    "        for layer in layers:\n",
    "            self.parameters += layer.parameters\n",
    "\n",
    "    def __call__(self, input_):\n",
    "        return self.forward(input_)\n",
    "\n",
    "    def zero_grad(self):\n",
    "        for w, dw in self.parameters:\n",
    "            dw.zero_()\n",
    "\n",
    "    def forward(self, input_):\n",
    "        x = input_\n",
    "        for layer in self.layers:\n",
    "            x = layer.forward(x)\n",
    "        return x\n",
    "\n",
    "    def backward(self, loss_grad):\n",
    "        y = loss_grad\n",
    "        for layer in reversed(self.layers):\n",
    "            y = layer.backward(y)\n",
    "        return"
   ]
  },
  {
   "cell_type": "code",
   "execution_count": 9,
   "metadata": {},
   "outputs": [],
   "source": [
    "def generate_set(num):\n",
    "#   using pytorch tensor operation\n",
    "#   return the generated random points and labels\n",
    "    random_points = torch.rand((num, 2))\n",
    "    # check if the point is in the circle centered at (0.5,0.5) of radius 1/sqrt(2*math.pi)\n",
    "    targets=torch.Tensor([int(pow(x[0]-0.5,2)+pow(x[1]-0.5,2)<1/(2*math.pi)) for x in random_points]).view(-1,1)\n",
    "    return random_points, targets"
   ]
  },
  {
   "cell_type": "code",
   "execution_count": 13,
   "metadata": {},
   "outputs": [],
   "source": [
    "def train_model(model, train_input, train_target,test_input, test_target, batch_size=25, n_epochs=700, loss=MSELoss(), learning_rate=0.1):\n",
    "    \"\"\"\n",
    "    Train model\n",
    "    :param model: Sequence instance\n",
    "    :param train_input: tensor of size [size, 2] with coordinates x,y of the samples\n",
    "    :param train_target: tensor of size [size,1] with labels of the samples\n",
    "    :param test_input: tensor of size [size, 2] with coordinates x,y of the samples\n",
    "    :param test_target: tensor of size [size,1] with labels of the samples\n",
    "    :param batch_size: (int) size of batch to perform SGD\n",
    "    :param n_epochs: (int) number of iterations along the whole train set\n",
    "    :param loss: loss function instance\n",
    "    :param learning_rate: (float) which is used to perform SGD\n",
    "    :return: my_loss: (list) values of loss along the epochs\n",
    "    \"\"\"\n",
    "    # train model\n",
    "    train_loss_history=[]\n",
    "    train_accuracy=[]\n",
    "    test_loss_history=[]\n",
    "    test_accuracy=[]\n",
    "    \n",
    "    sample_size = train_input.size(0)\n",
    "    # reduce the learning rate when training epoch is halfway \n",
    "    # so that the training loss can continue to decrease\n",
    "    for epoch in range(n_epochs):\n",
    "        if epoch>n_epochs/2:\n",
    "            learning_rate=0.01\n",
    "        \n",
    "        sgd = SGD(model.parameters, learning_rate)\n",
    "        cumulative_loss = 0\n",
    "        for n_start in range(0, sample_size, batch_size):\n",
    "            # resetting the gradients\n",
    "            model.zero_grad()\n",
    "            output = model(train_input[n_start : n_start + batch_size])\n",
    "            # accumulating the loss over the mini-batches\n",
    "            cumulative_loss += loss(output, train_target[n_start : n_start + batch_size]) * batch_size\n",
    "            # calculating the gradient of the loss wrt final outputs\n",
    "            loss_grad = loss.backward(output, train_target[n_start : n_start + batch_size])\n",
    "            # propagating it backward\n",
    "            model.backward(loss_grad)\n",
    "            # updating the parameters\n",
    "            sgd.step()\n",
    "        \n",
    "        # get the training loss and accuracy\n",
    "        train_pred=model(train_input) \n",
    "        train_loss=loss(train_pred,train_target)\n",
    "        train_loss_history.append(train_loss)\n",
    "        train_accuracy_result=compute_accuracy(train_target,train_pred)\n",
    "        train_accuracy.append(train_accuracy_result)\n",
    "\n",
    "        # get the testing loss and accuracy\n",
    "        test_pred=model(test_input)\n",
    "        test_loss=loss(test_pred,test_target)\n",
    "        test_loss_history.append(test_loss)\n",
    "        test_accuracy_result=compute_accuracy(test_target,test_pred)\n",
    "        test_accuracy.append(test_accuracy_result)\n",
    "        \n",
    "        #Printing the results of the current iteration\n",
    "        print(\"The average training loss at epoch {} is {}\".format(epoch+1,(cumulative_loss / sample_size)),end='\\r')\n",
    "    print(\"\\r\")\n",
    "    print(\"The test accuracy is \", compute_accuracy(test_target,test_pred))\n",
    "    #Plotting the train and test loss and accuracy figure\n",
    "\n",
    "    #Setting-up the plot\n",
    "    plt.figure(figsize=(15,8))\n",
    "\n",
    "    ax1 = plt.subplot(1,2,1)\n",
    "\n",
    "    ax2 = plt.subplot(1,2,2)\n",
    "\n",
    "    #Drawing and labeling the curves\n",
    "    ax1.plot(train_loss_history, label=\"Training Loss\")\n",
    "    ax1.plot(test_loss_history, label=\"Test Loss\")\n",
    "\n",
    "    #Adding the title and axis labels\n",
    "    ax1.set_title('Train VS Test Loss')\n",
    "    ax1.set_ylabel('Loss')\n",
    "    ax1.set_xlabel('Epoch')\n",
    "    ax1.legend()\n",
    "\n",
    "    #Saving the plot\n",
    "    ax1.figure.savefig('loss.png')\n",
    "\n",
    "\n",
    "    #Drawing and labeling the curves\n",
    "    ax2.plot(train_accuracy, label=\"Train Accuracy\")\n",
    "    ax2.plot(test_accuracy, label=\"Test Accuracy\")\n",
    "\n",
    "    #Adding the title and axis labels\n",
    "    ax2.set_title('Train VS Test Accuracy')\n",
    "    ax2.set_ylabel('Accuracy')\n",
    "    ax2.set_xlabel('Epoch')\n",
    "    ax2.legend()\n",
    "\n",
    "    #Saving the plot\n",
    "    ax2.figure.savefig('accuracy.png')\n",
    "\n",
    "\n",
    "def compute_accuracy(true_target, predicted):\n",
    "    return (true_target-(predicted>0.5).float()).eq(0).float().mean().item()\n",
    "    "
   ]
  },
  {
   "cell_type": "code",
   "execution_count": 14,
   "metadata": {},
   "outputs": [],
   "source": [
    "class SGD:\n",
    "    def __init__(self, parameters, learning_rate):\n",
    "        self.parameters = parameters\n",
    "        self.learning_rate = learning_rate\n",
    "\n",
    "    def step(self):\n",
    "        for w, dw in self.parameters:\n",
    "            w.sub_(dw.mul(self.learning_rate))"
   ]
  },
  {
   "cell_type": "code",
   "execution_count": 15,
   "metadata": {},
   "outputs": [
    {
     "name": "stdout",
     "output_type": "stream",
     "text": [
      "The average training loss at epoch 1000 is 0.003704762145980567\n",
      "The test accuracy is  0.9829999804496765\n"
     ]
    },
    {
     "data": {
      "image/png": "[encoded data removed]",
      "text/plain": [
       "<Figure size 1080x576 with 2 Axes>"
      ]
     },
     "metadata": {
      "needs_background": "light"
     },
     "output_type": "display_data"
    }
   ],
   "source": [
    "sample_size = 1000\n",
    "\n",
    "train_input, train_target = generate_set(sample_size)\n",
    "test_input, test_target = generate_set(sample_size)\n",
    "\n",
    "\n",
    "layers = [Linear(2, 25), ReLU(), Linear(25, 25), ReLU(), Linear(25, 25), ReLU(), Linear(25, 25), ReLU(), Linear(25, 1)]\n",
    "model = Sequential(layers)\n",
    "\n",
    "train_model(model, train_input, train_target,test_input, test_target, batch_size=25, n_epochs=1000, loss=MSELoss(), learning_rate=0.1)"
   ]
  },
  {
   "cell_type": "code",
   "execution_count": null,
   "metadata": {},
   "outputs": [],
   "source": []
  }
 ],
 "metadata": {
  "kernelspec": {
   "display_name": "Python 3",
   "language": "python",
   "name": "python3"
  },
  "language_info": {
   "codemirror_mode": {
    "name": "ipython",
    "version": 3
   },
   "file_extension": ".py",
   "mimetype": "text/x-python",
   "name": "python",
   "nbconvert_exporter": "python",
   "pygments_lexer": "ipython3",
   "version": "3.8.5"
  }
 },
 "nbformat": 4,
 "nbformat_minor": 4
}
