{
 "cells": [
  {
   "cell_type": "code",
   "execution_count": 1,
   "metadata": {},
   "outputs": [],
   "source": [
    "import torch\n",
    "import math\n",
    "import random\n",
    "import numpy as np\n",
    "import matplotlib.pyplot as plt"
   ]
  },
  {
   "cell_type": "code",
   "execution_count": 2,
   "metadata": {},
   "outputs": [
    {
     "data": {
      "text/plain": [
       "<torch.autograd.grad_mode.set_grad_enabled at 0x7fbb3afbe880>"
      ]
     },
     "execution_count": 2,
     "metadata": {},
     "output_type": "execute_result"
    }
   ],
   "source": [
    "# autograd globally off\n",
    "torch.set_grad_enabled(False)"
   ]
  },
  {
   "cell_type": "markdown",
   "metadata": {},
   "source": [
    "## Optimizer"
   ]
  },
  {
   "cell_type": "code",
   "execution_count": 3,
   "metadata": {},
   "outputs": [],
   "source": [
    "class Stochastic_gradient_descent(object):\n",
    "    def __init__(self, learning_rate=10**-3):\n",
    "        \"\"\"\n",
    "        :param learning_rate: learning rate\n",
    "        \"\"\"\n",
    "        self.learning_rate=learning_rate\n",
    "\n",
    "    def __call__(self, *input):\n",
    "        \"\"\"\n",
    "        Perform parameter update\n",
    "        :param input: model.parameters()\n",
    "        \"\"\"\n",
    "        \n",
    "        # Iterate through the layers of the network and update parameters of the Linear ones\n",
    "        for layer in input[0]:\n",
    "            if isinstance(layer, Linear):\n",
    "                \n",
    "                # #Updating the weights and biases (SGD)\n",
    "                layer.weights.data = layer.weights.data -self.learning_rate * layer.weights.grad\n",
    "                if layer.biases is not None:\n",
    "                    layer.biases.data=layer.biases.data-self.learning_rate*layer.biases.grad\n",
    "\n",
    "    def param(self):\n",
    "        return []"
   ]
  },
  {
   "cell_type": "markdown",
   "metadata": {},
   "source": [
    "## Layer Modules"
   ]
  },
  {
   "cell_type": "code",
   "execution_count": 4,
   "metadata": {},
   "outputs": [],
   "source": [
    "class Module (object):\n",
    "    def __init__(self):\n",
    "        self.parameters = []\n",
    "    def forward (self , * input ):\n",
    "        raise NotImplementedError\n",
    "    def backward (self , * gradwrtoutput ):\n",
    "        raise NotImplementedError\n",
    "    def param (self):\n",
    "        return self.parameters"
   ]
  },
  {
   "cell_type": "code",
   "execution_count": 5,
   "metadata": {},
   "outputs": [],
   "source": [
    "class Parameter(object):\n",
    "    def __init__(self, data, requires_grad):\n",
    "        self.data = data\n",
    "        self.grad = None\n",
    "#         self.skip_decay = skip_decay\n",
    "        self.requires_grad = requires_grad"
   ]
  },
  {
   "cell_type": "code",
   "execution_count": 6,
   "metadata": {},
   "outputs": [],
   "source": [
    "class  Linear(Module):\n",
    "    #Fully Connected Layer\n",
    "    def __init__(self,input_size,output_size,requires_grad=True, bias=True, initialization='uniform'):\n",
    "    # Initializing weights and biases with uniformly distributed values between [0,1]    \n",
    "        \n",
    "        self.weights=Parameter(torch.empty(output_size,input_size),requires_grad)\n",
    "        self.biases=Parameter(torch.empty(output_size,1),requires_grad) if bias else None\n",
    "        self.requires_grad=requires_grad\n",
    "        \n",
    "        if initialization=='uniform':\n",
    "            # Initializing weights and biases with uniformly distributed values between [0,1]\n",
    "            self.weights.data=self.weights.data.normal_()\n",
    "            self.biases.data=self.biases.data.normal_()\n",
    "        elif initialization=='Xavier':\n",
    "            # Initialization of parameters with normally distributed values with \n",
    "            # std= sqrt(2/(width_layer + height_layer))   \n",
    "            std = math.sqrt(2 / (self.weights.data.size(0) + self.weights.data.size(1)))\n",
    "            self.biases.data = self.biases.normal_(0, std)\n",
    "            self.weights.data = self.weights.normal_(0, std)\n",
    "        else:\n",
    "            raise TypeError\n",
    "        \n",
    "    \n",
    "    def  forward(self , x):\n",
    "#         whether to compute the gradient in the backpropagation\n",
    "#         whether to set biases in the calculation\n",
    "        \n",
    "        if self.requires_grad: \n",
    "            self.x = x\n",
    "\n",
    "        a=torch.mm(self.weights.data,x)\n",
    "\n",
    "        if self.biases is not None:\n",
    "\n",
    "            a+=self.biases.data\n",
    "            \n",
    "        return a\n",
    "        \n",
    "    def backward(self , eta):\n",
    "#       eta: gradients passed from previous layers\n",
    "        \n",
    "        if self.requires_grad:\n",
    "\n",
    "            #Computing the gradient of the loss with respect to W, b and x\n",
    "            self.weights.grad=torch.mm(eta,self.x.T)\n",
    "            if self.biases is not None:\n",
    "                self.biases.grad=torch.einsum('ij->i', eta).view(-1,1)\n",
    "                \n",
    "            eta=torch.mm(self.weights.data.T,eta)\n",
    "\n",
    "#             #Updating the weights and biases (SGD)\n",
    "#             self.weights.data=self.weights.data-self.gamma*self.weights.grad\n",
    "#             if self.biases is not None:\n",
    "#                 self.biases.data=self.biases.data-self.gamma*self.biases.grad\n",
    "                \n",
    "            return eta\n",
    "              \n",
    "    def param(self):\n",
    "        \n",
    "        return  [(self.weights.data,self.weights.grad),(self.biases.data,self.biases.grad)]"
   ]
  },
  {
   "cell_type": "markdown",
   "metadata": {},
   "source": [
    "### Concatenate different layers"
   ]
  },
  {
   "cell_type": "code",
   "execution_count": 7,
   "metadata": {},
   "outputs": [],
   "source": [
    "# concatenate different layers\n",
    "class Sequential(Module):\n",
    "\n",
    "    def __init__(self,layers):\n",
    "        \n",
    "        #Getting the sequence of layers\n",
    "        self.layers=layers\n",
    "\n",
    "    def forward(self , x):\n",
    "        \n",
    "        #Forwarding the input through each layer in sequence\n",
    "        for layer in self.layers:\n",
    "            x=layer.forward(x)\n",
    "        \n",
    "        #Returning the output of the last layer\n",
    "\n",
    "        return x\n",
    "\n",
    "    def backward(self , eta):\n",
    "     \n",
    "        #Backward propagating the gradient from the last layer to the first\n",
    "        for layer in reversed(self.layers):\n",
    "            eta=layer.backward(eta)\n",
    "            \n",
    "        #Returning the gradient of the first layer\n",
    "        return eta\n",
    "    \n",
    "    def train(self, train_input, train_targets,test_input, test_targets, epochs,input_size, batch_size, loss_function,optimizer=Stochastic_gradient_descent()):\n",
    "        \n",
    "        #Training our model\n",
    "        \n",
    "        train_loss_history=[]\n",
    "        train_accuracy=[]\n",
    "        test_loss_history=[]\n",
    "        test_accuracy=[]\n",
    "        \n",
    "        for epoch in range(epochs):\n",
    "\n",
    "            for batch_idx in range(0,input_size,batch_size):\n",
    "\n",
    "\n",
    "                #Getting the input and target batches\n",
    "                input_batch=train_input[batch_idx:batch_idx+batch_size].T\n",
    "                target_batch=train_targets[batch_idx:batch_idx+batch_size].T\n",
    "                \n",
    "                #Forward step\n",
    "                \n",
    "                pred=self.forward(input_batch)\n",
    "\n",
    "                #Computing the loss\n",
    "                \n",
    "                loss=loss_function.forward(pred,target_batch)\n",
    "                \n",
    "                #Backward step\n",
    "                eta=loss_function.backward()\n",
    "                self.backward(eta)\n",
    "\n",
    "                optimizer(self.layers)\n",
    "            \n",
    "            # get the training loss and accuracy\n",
    "            train_pred=self.forward(train_input.T) \n",
    "            train_mse_loss=loss_function.forward(train_pred,train_targets.T)\n",
    "            train_loss_history.append(train_mse_loss)\n",
    "            train_accuracy_result=compute_accuracy(train_pred,train_targets.T)\n",
    "            train_accuracy.append(train_accuracy_result)\n",
    "            \n",
    "            # get the testing loss and accuracy\n",
    "            test_pred=self.forward(test_input.T)\n",
    "            test_mse_loss=loss_function.forward(test_pred,test_targets.T)\n",
    "            test_loss_history.append(test_mse_loss)\n",
    "            test_accuracy_result=compute_accuracy(test_pred,test_targets.T)\n",
    "            test_accuracy.append(test_accuracy_result)\n",
    "            \n",
    "            #Printing the results of the current iteration\n",
    "            print(\"The average training loss at epoch {} is {}\".format(epoch+1,loss),end='\\r')\n",
    "        \n",
    "        #Print the test accuracy\n",
    "        print('\\n')\n",
    "        print(\"The test accuracy is \", compute_accuracy(test_pred,test_targets.T).item())\n",
    "        \n",
    "        #Plotting the train and test loss and accuracy figure\n",
    "\n",
    "        #Setting-up the plot\n",
    "        plt.figure(figsize=(15,8))\n",
    "        \n",
    "        ax1 = plt.subplot(1,2,1)\n",
    "        \n",
    "        ax2 = plt.subplot(1,2,2)\n",
    "\n",
    "        #Drawing and labeling the curves\n",
    "        ax1.plot(train_loss_history, label=\"Training Loss\")\n",
    "        ax1.plot(test_loss_history, label=\"Test Loss\")\n",
    "\n",
    "        #Adding the title and axis labels\n",
    "        ax1.set_title('Train VS Test Loss')\n",
    "        ax1.set_ylabel('Loss')\n",
    "        ax1.set_xlabel('Epoch')\n",
    "        ax1.legend()\n",
    "\n",
    "        #Saving the plot\n",
    "        ax1.figure.savefig('loss.png')\n",
    "        \n",
    "\n",
    "        #Drawing and labeling the curves\n",
    "        ax2.plot(train_accuracy, label=\"Train Accuracy\")\n",
    "        ax2.plot(test_accuracy, label=\"Test Accuracy\")\n",
    "\n",
    "        #Adding the title and axis labels\n",
    "        ax2.set_title('Train VS Test Accuracy')\n",
    "        ax2.set_ylabel('Accuracy')\n",
    "        ax2.set_xlabel('Epoch')\n",
    "        ax2.legend()\n",
    "\n",
    "        #Saving the plot\n",
    "        ax2.figure.savefig('accuracy.png')\n",
    "        \n",
    "       \n",
    "            \n",
    "    def param(self):\n",
    "        \n",
    "        params=[]\n",
    "        \n",
    "        #Getting the param list of each layer\n",
    "        for layer in self.layers:\n",
    "            \n",
    "            for param in layer.param():\n",
    "                \n",
    "                params.append(param)\n",
    "        \n",
    "        return  params"
   ]
  },
  {
   "cell_type": "markdown",
   "metadata": {},
   "source": [
    "## Activation functions:"
   ]
  },
  {
   "cell_type": "code",
   "execution_count": 8,
   "metadata": {},
   "outputs": [],
   "source": [
    "class  ReLU(Module):\n",
    "    \n",
    "    def  forward(self , x):\n",
    "        \n",
    "        #Saving x for the backward\n",
    "\n",
    "        self.x=x\n",
    "        # return non-negative x\n",
    "        \n",
    "        return torch.max(torch.empty(self.x.size()).zero_(),x)\n",
    "        \n",
    "    def backward(self , eta):\n",
    "\n",
    "        #Computing the gradient with respect to x\n",
    "#         eta[self.x<=0] = 0\n",
    "        y = torch.empty(eta[0].size()).zero_()\n",
    "        return (torch.eq(y, torch.min(y, self.x))).type(torch.FloatTensor).mul(eta[0])\n",
    "        \n",
    "#         return eta\n",
    "        \n",
    "    def  param(self):\n",
    "        return  []"
   ]
  },
  {
   "cell_type": "code",
   "execution_count": 9,
   "metadata": {},
   "outputs": [],
   "source": [
    "#Hyperbolic Tangent Activation Module\n",
    "class  Tanh(Module):\n",
    "        \n",
    "    \n",
    "    def  forward(self , s):\n",
    "        \n",
    "        #Saving s for the backward\n",
    "        self.s=s\n",
    "        \n",
    "        return 1-2/(1+math.exp(1)**(2*s))\n",
    "        \n",
    "    def backward(self , gradx):\n",
    "        \n",
    "        #Computing the gradient with respect to s\n",
    "        grads=gradx*(4/(math.exp(1)**(self.s)+math.exp(1)**(-self.s))) #∇s tanh(s) = 4/(e^s+e^-s)\n",
    "        \n",
    "        return grads\n",
    "        \n",
    "    def  param(self):\n",
    "        return  []"
   ]
  },
  {
   "cell_type": "markdown",
   "metadata": {},
   "source": [
    "## Loss functions"
   ]
  },
  {
   "cell_type": "code",
   "execution_count": 10,
   "metadata": {},
   "outputs": [],
   "source": [
    "#Mean Squared Error Loss Module\n",
    "class  LossMSE(Module):\n",
    "    \n",
    "    def  forward(self , x, y):\n",
    "        \n",
    "        #Saving both s and y for the backpropagation\n",
    "        self.x=x\n",
    "        self.y=y\n",
    "        return torch.mean((x-y)**2)\n",
    "        \n",
    "    def backward(self):\n",
    "        \n",
    "        #Computing the gradient of the loss with respect to x\n",
    "        self.eta=2*(self.x-self.y)/(self.x.shape[1]*self.x.shape[0]) #∇x MSE(s,y)=2*(s-y)/N\n",
    "        return self.eta\n",
    "        \n",
    "    def  param(self):\n",
    "        return  []"
   ]
  },
  {
   "cell_type": "markdown",
   "metadata": {},
   "source": [
    "## Function to compute the accuracy"
   ]
  },
  {
   "cell_type": "code",
   "execution_count": 11,
   "metadata": {},
   "outputs": [],
   "source": [
    "#Helper function computing the accuracy of our predictions\n",
    "def compute_accuracy(pred,target):\n",
    "    return 1.*torch.sum((torch.max(pred,0)[1])==(torch.max(target,0)[1]))/target.shape[1]"
   ]
  },
  {
   "cell_type": "markdown",
   "metadata": {},
   "source": [
    "## Function to generate the training and testing data"
   ]
  },
  {
   "cell_type": "code",
   "execution_count": 12,
   "metadata": {},
   "outputs": [],
   "source": [
    "def generate_data(num):\n",
    "#   using pytorch tensor operation\n",
    "#   return the generated random points and labels\n",
    "    random_points = torch.rand((num, 2))\n",
    "    targets=(torch.sum((random_points-0.5)**2,axis=1)*(2*math.pi)<1)\n",
    "    # check if the point is in the circle centered at (0.5,0.5) of radius 1/sqrt(2*math.pi)\n",
    "    return random_points, torch.stack([~targets,targets]).T*1"
   ]
  },
  {
   "cell_type": "markdown",
   "metadata": {},
   "source": [
    "## Train and test the model"
   ]
  },
  {
   "cell_type": "code",
   "execution_count": 13,
   "metadata": {},
   "outputs": [],
   "source": [
    "#Initializing the model\n",
    "model=Sequential([Linear(2,25),ReLU(),Linear(25,25),ReLU(),Linear(25,25),ReLU(),Linear(25,2)])\n",
    "# generating the training data and testing data:\n",
    "train_input,train_targets=generate_data(1000)\n",
    "test_input,test_targets=generate_data(1000)"
   ]
  },
  {
   "cell_type": "code",
   "execution_count": 14,
   "metadata": {},
   "outputs": [
    {
     "name": "stdout",
     "output_type": "stream",
     "text": [
      "The average training loss at epoch 3000 is 0.183621525764465334\n",
      "\n",
      "The test accuracy is  0.8320000171661377\n"
     ]
    },
    {
     "data": {
      "image/png": "[encoded data removed]",
      "text/plain": [
       "<Figure size 1080x576 with 2 Axes>"
      ]
     },
     "metadata": {
      "needs_background": "light"
     },
     "output_type": "display_data"
    }
   ],
   "source": [
    "# the model parameters\n",
    "input_size=1000\n",
    "batch_size=25\n",
    "epochs=3000\n",
    "loss_function=LossMSE()\n",
    "\n",
    "# train the model\n",
    "\n",
    "model.train(train_input,train_targets,test_input,test_targets,epochs,input_size,batch_size,loss_function)"
   ]
  },
  {
   "cell_type": "code",
   "execution_count": null,
   "metadata": {},
   "outputs": [],
   "source": []
  },
  {
   "cell_type": "code",
   "execution_count": null,
   "metadata": {},
   "outputs": [],
   "source": []
  }
 ],
 "metadata": {
  "kernelspec": {
   "display_name": "Python 3",
   "language": "python",
   "name": "python3"
  },
  "language_info": {
   "codemirror_mode": {
    "name": "ipython",
    "version": 3
   },
   "file_extension": ".py",
   "mimetype": "text/x-python",
   "name": "python",
   "nbconvert_exporter": "python",
   "pygments_lexer": "ipython3",
   "version": "3.8.5"
  }
 },
 "nbformat": 4,
 "nbformat_minor": 4
}
